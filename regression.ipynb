{
 "cells": [
  {
   "cell_type": "code",
   "execution_count": 6,
   "metadata": {},
   "outputs": [],
   "source": [
    "import numpy as np\n",
    "import pandas as pd"
   ]
  },
  {
   "cell_type": "code",
   "execution_count": 7,
   "metadata": {},
   "outputs": [
    {
     "output_type": "execute_result",
     "data": {
      "text/plain": "   X2 house age  X3 distance to the nearest MRT station  \\\n0          32.0                                84.87882   \n1          19.5                               306.59470   \n2          13.3                               561.98450   \n3          13.3                               561.98450   \n4           5.0                               390.56840   \n\n   X4 number of convenience stores  Y house price of unit area  \n0                               10                        37.9  \n1                                9                        42.2  \n2                                5                        47.3  \n3                                5                        54.8  \n4                                5                        43.1  ",
      "text/html": "<div>\n<style scoped>\n    .dataframe tbody tr th:only-of-type {\n        vertical-align: middle;\n    }\n\n    .dataframe tbody tr th {\n        vertical-align: top;\n    }\n\n    .dataframe thead th {\n        text-align: right;\n    }\n</style>\n<table border=\"1\" class=\"dataframe\">\n  <thead>\n    <tr style=\"text-align: right;\">\n      <th></th>\n      <th>X2 house age</th>\n      <th>X3 distance to the nearest MRT station</th>\n      <th>X4 number of convenience stores</th>\n      <th>Y house price of unit area</th>\n    </tr>\n  </thead>\n  <tbody>\n    <tr>\n      <th>0</th>\n      <td>32.0</td>\n      <td>84.87882</td>\n      <td>10</td>\n      <td>37.9</td>\n    </tr>\n    <tr>\n      <th>1</th>\n      <td>19.5</td>\n      <td>306.59470</td>\n      <td>9</td>\n      <td>42.2</td>\n    </tr>\n    <tr>\n      <th>2</th>\n      <td>13.3</td>\n      <td>561.98450</td>\n      <td>5</td>\n      <td>47.3</td>\n    </tr>\n    <tr>\n      <th>3</th>\n      <td>13.3</td>\n      <td>561.98450</td>\n      <td>5</td>\n      <td>54.8</td>\n    </tr>\n    <tr>\n      <th>4</th>\n      <td>5.0</td>\n      <td>390.56840</td>\n      <td>5</td>\n      <td>43.1</td>\n    </tr>\n  </tbody>\n</table>\n</div>"
     },
     "metadata": {},
     "execution_count": 7
    }
   ],
   "source": [
    "df=pd.read_csv('Real_estate.csv')\n",
    "cdf=df[['X2 house age','X3 distance to the nearest MRT station','X4 number of convenience stores','Y house price of unit area']]\n",
    "cdf.head(5)"
   ]
  },
  {
   "cell_type": "code",
   "execution_count": 8,
   "metadata": {},
   "outputs": [],
   "source": [
    "msk=np.random.rand(len(df)) < 0.5\n",
    "train=cdf[msk]\n",
    "test=cdf[~msk]"
   ]
  },
  {
   "cell_type": "code",
   "execution_count": 9,
   "metadata": {},
   "outputs": [],
   "source": [
    "x=train[['X2 house age','X3 distance to the nearest MRT station','X4 number of convenience stores']]\n",
    "y=train[['Y house price of unit area']]"
   ]
  },
  {
   "cell_type": "code",
   "execution_count": 10,
   "metadata": {},
   "outputs": [
    {
     "output_type": "execute_result",
     "data": {
      "text/plain": "LinearRegression()"
     },
     "metadata": {},
     "execution_count": 10
    }
   ],
   "source": [
    "import sklearn.linear_model as sk\n",
    "regr=sk.LinearRegression()\n",
    "regr.fit(x,y)"
   ]
  },
  {
   "cell_type": "code",
   "execution_count": 91,
   "metadata": {
    "tags": []
   },
   "outputs": [
    {
     "output_type": "stream",
     "name": "stdout",
     "text": "variation: 0.67\npredictions:  [[47.42656478]\n [43.5309166 ]\n [43.5309166 ]\n [34.78977986]\n [40.27054264]\n [44.31526899]\n [33.83931688]\n [33.42950623]\n [52.84826764]\n [43.94551888]\n [39.35281523]\n [51.82767879]\n [34.98724191]\n [34.11212135]\n [35.71176355]\n [47.06768875]\n [45.66727197]\n [45.13986784]\n [47.30042173]\n [19.9291679 ]\n [32.64678932]\n [34.8213402 ]\n [44.08177918]\n [19.99546773]\n [19.22918428]\n [37.74666722]\n [45.15033921]\n [41.66932776]\n [14.6898094 ]\n [15.08528562]\n [40.26028736]\n [44.10804655]\n [14.84887934]\n [33.6369851 ]\n [32.13269845]\n [42.50749113]\n [49.83748421]\n [40.81199308]\n [43.74105552]\n [34.7161068 ]\n [43.05571768]\n [19.942933  ]\n [34.72820674]\n [31.22134   ]\n [32.98197564]\n [42.76000901]\n [53.30674612]\n [37.04009763]\n [43.20215676]\n [34.07933253]\n [31.12753442]\n [29.32128092]\n [36.69324279]\n [52.82200028]\n [49.81121685]\n [50.02888002]\n [40.55338717]\n [42.640686  ]\n [34.40381311]\n [44.90614914]\n [36.85996214]\n [19.44023616]\n [32.85574638]\n [43.86671678]\n [43.78791469]\n [43.28318689]\n [40.41876237]\n [47.11073016]\n [41.35870774]\n [45.9236903 ]\n [44.08177918]\n [41.44503935]\n [47.00598034]\n [42.3264541 ]\n [43.60519521]\n [34.8213402 ]\n [47.51378654]\n [19.20291692]\n [29.06649283]\n [40.27073945]\n [52.47798548]\n [39.11485666]\n [42.3264541 ]\n [34.96969972]\n [44.63995025]\n [32.86651175]\n [52.76946555]\n [17.54925535]\n [45.3986232 ]\n [38.73118127]\n [49.61746191]\n [33.24179815]\n [26.92427673]\n [31.91025622]\n [31.11627054]\n [43.5805032 ]\n [41.39577962]\n [38.7452349 ]\n [40.55190879]\n [36.42654893]\n [43.99035741]\n [42.64462285]\n [33.85492801]\n [43.58345133]\n [33.9711878 ]\n [36.78425889]\n [48.58214838]\n [46.4837906 ]\n [52.87453501]\n [33.78678215]\n [46.74584393]\n [31.74742738]\n [43.78791469]\n [43.38966968]\n [46.12750314]\n [49.81121685]\n [19.23371415]\n [35.73719781]\n [19.34755822]\n [16.15926411]\n [42.90556135]\n [47.73919958]\n [53.49540826]\n [36.59946602]\n [32.43989824]\n [29.48281571]\n [47.85245783]\n [37.83892958]\n [31.85554571]\n [44.16058128]\n [35.76346517]\n [33.86558425]\n [38.29110582]\n [43.33170683]\n [46.81283613]\n [43.21388564]\n [51.82767879]\n [31.03746845]\n [38.9603199 ]\n [51.83723076]\n [36.9875629 ]\n [27.49833068]\n [35.76118745]\n [45.1134262 ]\n [30.95576055]\n [51.16929288]\n [42.48224406]\n [39.63490444]\n [19.18117942]\n [46.93396874]\n [47.01891357]\n [31.01444872]\n [25.6866395 ]\n [33.60360787]\n [44.1064933 ]\n [47.27782885]\n [47.63413012]\n [38.10183687]\n [39.32872228]\n [19.46650353]\n [39.34417205]\n [40.2302425 ]\n [34.32148799]\n [42.56034404]\n [35.73893621]\n [14.73636454]\n [32.39529817]\n [47.1765135 ]\n [42.23585185]\n [33.08920541]\n [53.00587183]\n [42.12512743]\n [42.3264541 ]\n [ 8.71666973]\n [43.89298415]\n [35.57896254]\n [29.41484044]\n [35.71093044]\n [34.76880547]\n [46.88381719]\n [49.81121685]\n [30.15098346]\n [47.17849196]\n [39.27887798]\n [47.22708871]\n [40.10533726]\n [32.99671956]\n [32.1184821 ]\n [33.08160555]\n [44.16058128]\n [47.14665433]\n [43.20215676]\n [46.43125588]\n [52.37291602]\n [49.62157043]\n [44.63339385]\n [38.34747785]\n [51.03478536]\n [32.7435388 ]\n [44.50396273]\n [33.554536  ]\n [39.33141271]\n [40.39162418]\n [33.6953814 ]\n [50.0436577 ]\n [31.79186299]\n [19.96920037]\n [45.51381837]\n [52.79573291]]\n"
    }
   ],
   "source": [
    "x_test=test[['X2 house age','X3 distance to the nearest MRT station','X4 number of convenience stores']]\n",
    "y_test=test[['Y house price of unit area']]\n",
    "print(\"variation: %.2f\"%regr.score(x_test,y_test))\n",
    "print('predictions: ',regr.predict(x_test))"
   ]
  },
  {
   "cell_type": "code",
   "execution_count": null,
   "metadata": {},
   "outputs": [],
   "source": []
  }
 ],
 "metadata": {
  "language_info": {
   "codemirror_mode": {
    "name": "ipython",
    "version": 3
   },
   "file_extension": ".py",
   "mimetype": "text/x-python",
   "name": "python",
   "nbconvert_exporter": "python",
   "pygments_lexer": "ipython3",
   "version": "3.7.2-final"
  },
  "orig_nbformat": 2,
  "kernelspec": {
   "name": "python37232bit179e69cdd0404544806eee48b79db1c6",
   "display_name": "Python 3.7.2 32-bit"
  }
 },
 "nbformat": 4,
 "nbformat_minor": 2
}